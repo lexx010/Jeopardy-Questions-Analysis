{
 "cells": [
  {
   "cell_type": "markdown",
   "metadata": {},
   "source": [
    "<a href=\"https://github.com/lexx010?tab=repositories\">\n",
    "    <img src=\"img/github_sm.png\">\n",
    "</a>"
   ]
  },
  {
   "cell_type": "code",
   "execution_count": 3,
   "metadata": {
    "tags": []
   },
   "outputs": [],
   "source": [
    "import pandas as pd\n",
    "import string\n",
    "import random\n",
    "import numpy as np\n",
    "import matplotlib.pyplot as plt\n",
    "import seaborn as sns"
   ]
  },
  {
   "cell_type": "markdown",
   "metadata": {},
   "source": [
    "## Jeopardy Questions\n",
    "\n",
    "**Jeopardy!** is a long-running U.S. quiz show where contestants answer questions to win money. This project analyzes a dataset of over 200,000 questions to uncover patterns that could help contestants gain an edge.\n",
    "\n",
    "You can access the full dataset [here](https://www.reddit.com/r/datasets/comments/1uyd0t/200000_jeopardy_questions_in_a_json_file).\n",
    "\n",
    "## Dataset Overview\n",
    "Each row represents a single question from an episode:\n",
    "\n",
    "- **Show Number** – Episode ID  \n",
    "- **Air Date** – Date aired  \n",
    "- **Round** – Jeopardy, Double Jeopardy, Final Jeopardy, or Tiebreaker  \n",
    "- **Category** – Question topic  \n",
    "- **Value** – Dollar amount for the correct answer  \n",
    "- **Question** – Clue text  \n",
    "- **Answer** – Correct response  \n",
    "\n",
    "## Goal\n",
    "Analyze **question overlap, category trends, and round-specific patterns** to identify insights that can help contestants prepare more effectively.\n",
    "\n"
   ]
  },
  {
   "cell_type": "code",
   "execution_count": 126,
   "metadata": {},
   "outputs": [],
   "source": [
    "# load dataset\n",
    "df = pd.read_csv('JEOPARDY_CSV.csv')"
   ]
  },
  {
   "cell_type": "code",
   "execution_count": 3,
   "metadata": {},
   "outputs": [
    {
     "data": {
      "text/html": [
       "<div>\n",
       "<style scoped>\n",
       "    .dataframe tbody tr th:only-of-type {\n",
       "        vertical-align: middle;\n",
       "    }\n",
       "\n",
       "    .dataframe tbody tr th {\n",
       "        vertical-align: top;\n",
       "    }\n",
       "\n",
       "    .dataframe thead th {\n",
       "        text-align: right;\n",
       "    }\n",
       "</style>\n",
       "<table border=\"1\" class=\"dataframe\">\n",
       "  <thead>\n",
       "    <tr style=\"text-align: right;\">\n",
       "      <th></th>\n",
       "      <th>Show Number</th>\n",
       "      <th>Air Date</th>\n",
       "      <th>Round</th>\n",
       "      <th>Category</th>\n",
       "      <th>Value</th>\n",
       "      <th>Question</th>\n",
       "      <th>Answer</th>\n",
       "    </tr>\n",
       "  </thead>\n",
       "  <tbody>\n",
       "    <tr>\n",
       "      <th>0</th>\n",
       "      <td>4680</td>\n",
       "      <td>2004-12-31</td>\n",
       "      <td>Jeopardy!</td>\n",
       "      <td>HISTORY</td>\n",
       "      <td>$200</td>\n",
       "      <td>For the last 8 years of his life, Galileo was ...</td>\n",
       "      <td>Copernicus</td>\n",
       "    </tr>\n",
       "    <tr>\n",
       "      <th>1</th>\n",
       "      <td>4680</td>\n",
       "      <td>2004-12-31</td>\n",
       "      <td>Jeopardy!</td>\n",
       "      <td>ESPN's TOP 10 ALL-TIME ATHLETES</td>\n",
       "      <td>$200</td>\n",
       "      <td>No. 2: 1912 Olympian; football star at Carlisl...</td>\n",
       "      <td>Jim Thorpe</td>\n",
       "    </tr>\n",
       "    <tr>\n",
       "      <th>2</th>\n",
       "      <td>4680</td>\n",
       "      <td>2004-12-31</td>\n",
       "      <td>Jeopardy!</td>\n",
       "      <td>EVERYBODY TALKS ABOUT IT...</td>\n",
       "      <td>$200</td>\n",
       "      <td>The city of Yuma in this state has a record av...</td>\n",
       "      <td>Arizona</td>\n",
       "    </tr>\n",
       "    <tr>\n",
       "      <th>3</th>\n",
       "      <td>4680</td>\n",
       "      <td>2004-12-31</td>\n",
       "      <td>Jeopardy!</td>\n",
       "      <td>THE COMPANY LINE</td>\n",
       "      <td>$200</td>\n",
       "      <td>In 1963, live on \"The Art Linkletter Show\", th...</td>\n",
       "      <td>McDonald's</td>\n",
       "    </tr>\n",
       "    <tr>\n",
       "      <th>4</th>\n",
       "      <td>4680</td>\n",
       "      <td>2004-12-31</td>\n",
       "      <td>Jeopardy!</td>\n",
       "      <td>EPITAPHS &amp; TRIBUTES</td>\n",
       "      <td>$200</td>\n",
       "      <td>Signer of the Dec. of Indep., framer of the Co...</td>\n",
       "      <td>John Adams</td>\n",
       "    </tr>\n",
       "  </tbody>\n",
       "</table>\n",
       "</div>"
      ],
      "text/plain": [
       "   Show Number    Air Date      Round                         Category  Value  \\\n",
       "0         4680  2004-12-31  Jeopardy!                          HISTORY   $200   \n",
       "1         4680  2004-12-31  Jeopardy!  ESPN's TOP 10 ALL-TIME ATHLETES   $200   \n",
       "2         4680  2004-12-31  Jeopardy!      EVERYBODY TALKS ABOUT IT...   $200   \n",
       "3         4680  2004-12-31  Jeopardy!                 THE COMPANY LINE   $200   \n",
       "4         4680  2004-12-31  Jeopardy!              EPITAPHS & TRIBUTES   $200   \n",
       "\n",
       "                                            Question      Answer  \n",
       "0  For the last 8 years of his life, Galileo was ...  Copernicus  \n",
       "1  No. 2: 1912 Olympian; football star at Carlisl...  Jim Thorpe  \n",
       "2  The city of Yuma in this state has a record av...     Arizona  \n",
       "3  In 1963, live on \"The Art Linkletter Show\", th...  McDonald's  \n",
       "4  Signer of the Dec. of Indep., framer of the Co...  John Adams  "
      ]
     },
     "execution_count": 3,
     "metadata": {},
     "output_type": "execute_result"
    }
   ],
   "source": [
    "df.head(5)"
   ]
  },
  {
   "cell_type": "code",
   "execution_count": 7,
   "metadata": {},
   "outputs": [
    {
     "data": {
      "text/plain": [
       "Index(['Show Number', ' Air Date', ' Round', ' Category', ' Value',\n",
       "       ' Question', ' Answer'],\n",
       "      dtype='object')"
      ]
     },
     "execution_count": 7,
     "metadata": {},
     "output_type": "execute_result"
    }
   ],
   "source": [
    "df.columns"
   ]
  },
  {
   "cell_type": "code",
   "execution_count": 9,
   "metadata": {},
   "outputs": [],
   "source": [
    "df.columns = df.columns.str.strip()"
   ]
  },
  {
   "cell_type": "code",
   "execution_count": 11,
   "metadata": {},
   "outputs": [
    {
     "data": {
      "text/plain": [
       "Index(['Show Number', 'Air Date', 'Round', 'Category', 'Value', 'Question',\n",
       "       'Answer'],\n",
       "      dtype='object')"
      ]
     },
     "execution_count": 11,
     "metadata": {},
     "output_type": "execute_result"
    }
   ],
   "source": [
    "df.columns"
   ]
  },
  {
   "cell_type": "markdown",
   "metadata": {},
   "source": [
    "##  Normalizing Text\n",
    "Before analyzing the Jeopardy questions, it's important to normalize the text in the **Question** and **Answer** columns. This involves creating a function to clean and standardize the text, then applying it to both columns to prepare the data for analysis.\n"
   ]
  },
  {
   "cell_type": "code",
   "execution_count": 26,
   "metadata": {},
   "outputs": [
    {
     "data": {
      "text/plain": [
       "Show Number        int64\n",
       "Air Date          object\n",
       "Round             object\n",
       "Category          object\n",
       "Value             object\n",
       "Question          object\n",
       "Answer            object\n",
       "clean_question    object\n",
       "dtype: object"
      ]
     },
     "execution_count": 26,
     "metadata": {},
     "output_type": "execute_result"
    }
   ],
   "source": [
    "df.dtypes"
   ]
  },
  {
   "cell_type": "code",
   "execution_count": 28,
   "metadata": {},
   "outputs": [],
   "source": [
    "def norm_text(text):\n",
    "    if not isinstance(text, str):  # to handle NaN or float AttributeError.\n",
    "        return \"\"\n",
    "    text = text.lower()\n",
    "    text = ''.join(char for char in text if char not in string.punctuation)\n",
    "    return text"
   ]
  },
  {
   "cell_type": "code",
   "execution_count": 30,
   "metadata": {},
   "outputs": [],
   "source": [
    "df['clean_question'] = df['Question'].apply(norm_text)\n",
    "df['clean_answer'] = df['Answer'].apply(norm_text)"
   ]
  },
  {
   "cell_type": "markdown",
   "metadata": {},
   "source": [
    "## Normalizing Columns\n",
    "After normalizing the text columns, other columns also need standardization:\n",
    "\n",
    "- **Value**: Convert from text to numeric by removing the dollar sign and handling missing or invalid entries. This allows easier calculations and comparisons.\n",
    "- **Air Date**: Convert from string to `datetime` format to facilitate date-based analysis.\n"
   ]
  },
  {
   "cell_type": "code",
   "execution_count": 31,
   "metadata": {},
   "outputs": [
    {
     "name": "stdout",
     "output_type": "stream",
     "text": [
      "   clean_value   Air Date\n",
      "0          200 2004-12-31\n",
      "1          200 2004-12-31\n",
      "2          200 2004-12-31\n",
      "3          200 2004-12-31\n",
      "4          200 2004-12-31\n"
     ]
    }
   ],
   "source": [
    "def normalize_value(value):\n",
    "    try:\n",
    "        value_str = str(value)\n",
    "        value_str = ''.join(char for char in value_str if char not in string.punctuation)\n",
    "        # Convert to integer\n",
    "        return int(value_str)\n",
    "    except:\n",
    "        return 0\n",
    "\n",
    "# Apply the function to normalize the Value column\n",
    "df['clean_value'] = df['Value'].apply(normalize_value)\n",
    "\n",
    "# convert to datetimme format\n",
    "df['Air Date'] = pd.to_datetime(df['Air Date'])\n",
    "\n",
    "# Check the result\n",
    "print(df[['clean_value', 'Air Date']].head())\n",
    "\n",
    "    "
   ]
  },
  {
   "cell_type": "code",
   "execution_count": 34,
   "metadata": {},
   "outputs": [
    {
     "data": {
      "text/html": [
       "<div>\n",
       "<style scoped>\n",
       "    .dataframe tbody tr th:only-of-type {\n",
       "        vertical-align: middle;\n",
       "    }\n",
       "\n",
       "    .dataframe tbody tr th {\n",
       "        vertical-align: top;\n",
       "    }\n",
       "\n",
       "    .dataframe thead th {\n",
       "        text-align: right;\n",
       "    }\n",
       "</style>\n",
       "<table border=\"1\" class=\"dataframe\">\n",
       "  <thead>\n",
       "    <tr style=\"text-align: right;\">\n",
       "      <th></th>\n",
       "      <th>Show Number</th>\n",
       "      <th>Air Date</th>\n",
       "      <th>Round</th>\n",
       "      <th>Category</th>\n",
       "      <th>Value</th>\n",
       "      <th>Question</th>\n",
       "      <th>Answer</th>\n",
       "      <th>clean_question</th>\n",
       "      <th>clean_answer</th>\n",
       "      <th>clean_value</th>\n",
       "    </tr>\n",
       "  </thead>\n",
       "  <tbody>\n",
       "    <tr>\n",
       "      <th>0</th>\n",
       "      <td>4680</td>\n",
       "      <td>2004-12-31</td>\n",
       "      <td>Jeopardy!</td>\n",
       "      <td>HISTORY</td>\n",
       "      <td>$200</td>\n",
       "      <td>For the last 8 years of his life, Galileo was ...</td>\n",
       "      <td>Copernicus</td>\n",
       "      <td>for the last 8 years of his life galileo was u...</td>\n",
       "      <td>copernicus</td>\n",
       "      <td>200</td>\n",
       "    </tr>\n",
       "    <tr>\n",
       "      <th>1</th>\n",
       "      <td>4680</td>\n",
       "      <td>2004-12-31</td>\n",
       "      <td>Jeopardy!</td>\n",
       "      <td>ESPN's TOP 10 ALL-TIME ATHLETES</td>\n",
       "      <td>$200</td>\n",
       "      <td>No. 2: 1912 Olympian; football star at Carlisl...</td>\n",
       "      <td>Jim Thorpe</td>\n",
       "      <td>no 2 1912 olympian football star at carlisle i...</td>\n",
       "      <td>jim thorpe</td>\n",
       "      <td>200</td>\n",
       "    </tr>\n",
       "    <tr>\n",
       "      <th>2</th>\n",
       "      <td>4680</td>\n",
       "      <td>2004-12-31</td>\n",
       "      <td>Jeopardy!</td>\n",
       "      <td>EVERYBODY TALKS ABOUT IT...</td>\n",
       "      <td>$200</td>\n",
       "      <td>The city of Yuma in this state has a record av...</td>\n",
       "      <td>Arizona</td>\n",
       "      <td>the city of yuma in this state has a record av...</td>\n",
       "      <td>arizona</td>\n",
       "      <td>200</td>\n",
       "    </tr>\n",
       "    <tr>\n",
       "      <th>3</th>\n",
       "      <td>4680</td>\n",
       "      <td>2004-12-31</td>\n",
       "      <td>Jeopardy!</td>\n",
       "      <td>THE COMPANY LINE</td>\n",
       "      <td>$200</td>\n",
       "      <td>In 1963, live on \"The Art Linkletter Show\", th...</td>\n",
       "      <td>McDonald's</td>\n",
       "      <td>in 1963 live on the art linkletter show this c...</td>\n",
       "      <td>mcdonalds</td>\n",
       "      <td>200</td>\n",
       "    </tr>\n",
       "    <tr>\n",
       "      <th>4</th>\n",
       "      <td>4680</td>\n",
       "      <td>2004-12-31</td>\n",
       "      <td>Jeopardy!</td>\n",
       "      <td>EPITAPHS &amp; TRIBUTES</td>\n",
       "      <td>$200</td>\n",
       "      <td>Signer of the Dec. of Indep., framer of the Co...</td>\n",
       "      <td>John Adams</td>\n",
       "      <td>signer of the dec of indep framer of the const...</td>\n",
       "      <td>john adams</td>\n",
       "      <td>200</td>\n",
       "    </tr>\n",
       "  </tbody>\n",
       "</table>\n",
       "</div>"
      ],
      "text/plain": [
       "   Show Number   Air Date      Round                         Category Value  \\\n",
       "0         4680 2004-12-31  Jeopardy!                          HISTORY  $200   \n",
       "1         4680 2004-12-31  Jeopardy!  ESPN's TOP 10 ALL-TIME ATHLETES  $200   \n",
       "2         4680 2004-12-31  Jeopardy!      EVERYBODY TALKS ABOUT IT...  $200   \n",
       "3         4680 2004-12-31  Jeopardy!                 THE COMPANY LINE  $200   \n",
       "4         4680 2004-12-31  Jeopardy!              EPITAPHS & TRIBUTES  $200   \n",
       "\n",
       "                                            Question      Answer  \\\n",
       "0  For the last 8 years of his life, Galileo was ...  Copernicus   \n",
       "1  No. 2: 1912 Olympian; football star at Carlisl...  Jim Thorpe   \n",
       "2  The city of Yuma in this state has a record av...     Arizona   \n",
       "3  In 1963, live on \"The Art Linkletter Show\", th...  McDonald's   \n",
       "4  Signer of the Dec. of Indep., framer of the Co...  John Adams   \n",
       "\n",
       "                                      clean_question clean_answer  clean_value  \n",
       "0  for the last 8 years of his life galileo was u...   copernicus          200  \n",
       "1  no 2 1912 olympian football star at carlisle i...   jim thorpe          200  \n",
       "2  the city of yuma in this state has a record av...      arizona          200  \n",
       "3  in 1963 live on the art linkletter show this c...    mcdonalds          200  \n",
       "4  signer of the dec of indep framer of the const...   john adams          200  "
      ]
     },
     "execution_count": 34,
     "metadata": {},
     "output_type": "execute_result"
    }
   ],
   "source": [
    "df.head(5)"
   ]
  },
  {
   "cell_type": "markdown",
   "metadata": {},
   "source": [
    "##  Answers in Questions\n",
    "To decide whether to study past questions, general knowledge, or not study at all, it helps to examine two things:\n",
    "\n",
    "1. **Answer overlap**: How often words in the answer also appear in the question.\n",
    "2. **Question repetition**: How often complex words (longer than 6 characters) reoccur across questions.\n",
    "\n",
    "We'll first focus on analyzing answer overlap. To make this analysis more meaningful, we'll create a list of **custom stopwords** to filter out common words that provide little information:\n",
    "\n",
    "```python\n",
    "custom_stopwords = {\n",
    "    \"the\", \"a\", \"an\", \"and\", \"or\", \"but\", \"than\", \"then\", \n",
    "    \"with\", \"without\", \"from\", \"into\", \"onto\", \"for\", \"of\", \n",
    "    \"at\", \"to\", \"in\", \"on\", \"by\", \"is\", \"are\", \"was\", \"were\"\n",
    "}\n"
   ]
  },
  {
   "cell_type": "code",
   "execution_count": 40,
   "metadata": {},
   "outputs": [
    {
     "name": "stdout",
     "output_type": "stream",
     "text": [
      " The mean of the answer_in_question:  {0.04067668138854697}\n"
     ]
    }
   ],
   "source": [
    "custom_stopwords = {\n",
    "    \"the\", \"a\", \"an\", \"and\", \"or\", \"but\", \"than\", \"then\", \n",
    "    \"with\", \"without\", \"from\", \"into\", \"onto\", \"for\", \"of\", \n",
    "    \"at\", \"to\", \"in\", \"on\", \"by\", \"is\", \"are\", \"was\", \"were\"\n",
    "}\n",
    "\n",
    "def question_answer_split_ratio(row):\n",
    "    split_answer = row['clean_answer'].split(\" \")\n",
    "    split_question = row['clean_question'].split(\" \")\n",
    "    \n",
    "    match_count = 0\n",
    "    # Remove stopwords present in the answer\n",
    "    filtered_answer = []\n",
    "    for w in split_answer:\n",
    "        if w not in custom_stopwords:\n",
    "            filtered_answer.append(w)\n",
    "        split_answer = filtered_answer\n",
    "   \n",
    "    # Avoid division by zero    \n",
    "    if len(split_answer) == 0:\n",
    "        return 0\n",
    "    \n",
    "    for i in split_answer:\n",
    "        if i in split_question:\n",
    "            match_count += 1\n",
    "    \n",
    "    # Ratio of matches\n",
    "    return match_count / len(split_answer)\n",
    "\n",
    "# Count how many times terms in clean_answer occur in clean_question.\n",
    "\n",
    "df['answer_in_question'] = df.apply(question_answer_split_ratio, axis=1)\n",
    "\n",
    "mean_answer_ratio  = df['answer_in_question'].mean()\n",
    "print(f' The mean of the answer_in_question: ', {mean_answer_ratio})\n"
   ]
  },
  {
   "cell_type": "markdown",
   "metadata": {},
   "source": [
    "**Observation:**  \n",
    "\n",
    "Only about **4%** of the informative words in the answer appear in the corresponding question after filtering out common stopwords such as *the, and, of, in,* etc.  \n",
    "\n",
    "This suggests that most answers on Jeopardy are not directly repeated in the question, highlighting the importance of general knowledge and context over simple word matching.\n"
   ]
  },
  {
   "cell_type": "markdown",
   "metadata": {},
   "source": [
    "## Recycled Questions\n",
    "\n",
    "To investigate how often new questions repeat older ones, we can:\n",
    "\n",
    "1. Sort the `jeopardy` dataset by ascending `Air Date`.\n",
    "2. Initialize an empty set called `terms_used`.\n",
    "3. Iterate through each question:\n",
    "   - Split `clean_question` into words.\n",
    "   - Remove words shorter than 6 characters.\n",
    "   - Check if each remaining word is already in `terms_used`. If yes, increment a counter.\n",
    "   - Add each word to `terms_used`.\n",
    "\n",
    "Focusing on words with 6+ characters filters out common words like *the* and *than*, which are not informative, allowing us to track meaningful repetition in questions.\n"
   ]
  },
  {
   "cell_type": "code",
   "execution_count": 61,
   "metadata": {},
   "outputs": [
    {
     "name": "stdout",
     "output_type": "stream",
     "text": [
      "The mean of the question_overlap is: {0.8729646759745024}\n"
     ]
    }
   ],
   "source": [
    "question_overlap = []\n",
    "terms_used = set()\n",
    "\n",
    "for id, row in df.iterrows():\n",
    "    split_question = row['clean_question'].split(\" \")\n",
    "    \n",
    "  # Keep only words with length >= 6    \n",
    "    split_question = [word for word in split_question if len(word) >= 6]\n",
    "    \n",
    "    match_count = 0\n",
    "    \n",
    "    for word in split_question:\n",
    "        if word in terms_used:\n",
    "            match_count += 1\n",
    "            \n",
    "    for word in split_question:\n",
    "        terms_used.add(word)\n",
    "    \n",
    "    if len(split_question) > 0:\n",
    "        overlap = match_count / len(split_question)\n",
    "    else:\n",
    "        overlap = 0\n",
    "        \n",
    "    question_overlap.append(overlap)\n",
    "    \n",
    " # Assign question_overlap to the question_overlap column of jeopardy.\n",
    "\n",
    "df['question_overlap'] = question_overlap\n",
    "\n",
    "mean_overlap = df['question_overlap'].mean()\n",
    "print(f'The mean of the question_overlap is:', {mean_overlap})\n",
    "    "
   ]
  },
  {
   "cell_type": "markdown",
   "metadata": {},
   "source": [
    "**Observation:**  \n",
    "\n",
    "The mean question overlap is very high (≈87%), which indicates that, on average, more than 87% of the meaningful words (6+ characters) in each question have already appeared in previous Jeopardy questions.  \n",
    "\n",
    "In other words, nearly 9 out of 10 significant words in a question are repeated terms from earlier questions in the dataset.\n"
   ]
  },
  {
   "cell_type": "markdown",
   "metadata": {},
   "source": [
    "## Low Value vs High Value Questions\n",
    "\n",
    "To focus on questions that could earn more money, we can analyze which words are more common in high-value questions using a chi-squared test.\n",
    "\n",
    "**Steps:**\n",
    "\n",
    "1. **Categorize Questions**  \n",
    "   - **Low value**: Value < 800  \n",
    "   - **High value**: Value > 800  \n",
    "\n",
    "2. **Analyze Term Frequency**  \n",
    "   For each word in `terms_used`:\n",
    "   - Count how many low-value questions the word appears in.\n",
    "   - Count how many high-value questions the word appears in.\n",
    "   - Compute expected counts based on overall occurrence.\n",
    "\n",
    "3. **Compute Chi-Squared Statistic**  \n",
    "   - Compare observed vs. expected counts for high- and low-value questions.\n",
    "   - Words with the highest chi-squared values indicate the biggest differences in usage between high- and low-value questions.\n"
   ]
  },
  {
   "cell_type": "markdown",
   "metadata": {},
   "source": [
    "To analyze which words are more common in high-value questions, we first classify each question as either **Low Value** (questions worth less than \\$800) or **High Value** (questions worth more than \\$800).\n",
    "\n",
    "We then count, for a sample of words, how often each word appears in Low Value and High Value questions. This allows us to compare observed versus expected frequencies and identify terms that are disproportionately associated with higher-value questions using a chi-squared test.\n"
   ]
  },
  {
   "cell_type": "code",
   "execution_count": 63,
   "metadata": {
    "scrolled": true
   },
   "outputs": [
    {
     "data": {
      "text/plain": [
       "Index(['Show Number', 'Air Date', 'Round', 'Category', 'Value', 'Question',\n",
       "       'Answer', 'clean_question', 'clean_answer', 'clean_value',\n",
       "       'answer_in_question', 'question_overlap', 'high_value'],\n",
       "      dtype='object')"
      ]
     },
     "execution_count": 63,
     "metadata": {},
     "output_type": "execute_result"
    }
   ],
   "source": [
    "df.columns"
   ]
  },
  {
   "cell_type": "code",
   "execution_count": 67,
   "metadata": {},
   "outputs": [],
   "source": [
    "def determine_value(row):\n",
    "    if row['clean_value'] > 800:\n",
    "        return 1\n",
    "    else:\n",
    "        return 0\n",
    "\n",
    "df['high_value'] = df.apply(determine_value, axis=1)\n"
   ]
  },
  {
   "cell_type": "code",
   "execution_count": 68,
   "metadata": {},
   "outputs": [],
   "source": [
    "# df.sample(10)"
   ]
  },
  {
   "cell_type": "code",
   "execution_count": 71,
   "metadata": {},
   "outputs": [],
   "source": [
    "def count_word(word):\n",
    "    low_count = 0\n",
    "    high_count = 0\n",
    "    \n",
    "    for idx, row in df.iterrows():\n",
    "        words = row['clean_question'].split(\" \")\n",
    "        if word in words:\n",
    "            if row['high_value'] == 1:\n",
    "                high_count += 1\n",
    "            else:\n",
    "                low_count += 1\n",
    "                \n",
    "    return high_count, low_count\n",
    "    "
   ]
  },
  {
   "cell_type": "code",
   "execution_count": 73,
   "metadata": {},
   "outputs": [
    {
     "name": "stdout",
     "output_type": "stream",
     "text": [
      "['violation', 'salamanders', 'magazine', 'sowith', 'coincides', 'erdarelli', 'tiptoeing', 'nyerere', 'grebes', 'brusteins']\n"
     ]
    }
   ],
   "source": [
    "# Randomly pick ten elements of terms_used and append them to a list called comparison_terms.\n",
    "comparison_terms = random.sample(list(terms_used),10)\n",
    "print(comparison_terms)"
   ]
  },
  {
   "cell_type": "code",
   "execution_count": 75,
   "metadata": {},
   "outputs": [
    {
     "name": "stdout",
     "output_type": "stream",
     "text": [
      "[(8, 10), (0, 5), (135, 456), (3, 0), (3, 5), (1, 0), (1, 0), (1, 1), (0, 1), (1, 0)]\n"
     ]
    }
   ],
   "source": [
    "# Create an empty list called observed_expected\n",
    "observed_expected = []\n",
    "\n",
    "for term in comparison_terms:\n",
    "    observed_expected.append(count_word(term))\n",
    "    \n",
    "print(observed_expected)"
   ]
  },
  {
   "cell_type": "markdown",
   "metadata": {},
   "source": [
    "## Applying the Chi-squared Test\n",
    "\n",
    "Once we have the observed counts for a set of terms, we can:\n",
    "\n",
    "1. Compute the expected counts for High Value and Low Value questions based on their overall proportions in the dataset.  \n",
    "2. Apply the chi-squared test to compare observed versus expected counts.  \n",
    "\n",
    "This step allows us to quantify whether the occurrence of specific terms is significantly associated with high-value questions.\n"
   ]
  },
  {
   "cell_type": "code",
   "execution_count": 80,
   "metadata": {},
   "outputs": [],
   "source": [
    "# Applying the Chi-squared Test\n",
    "from scipy.stats import chisquare\n",
    "\n",
    "# find high and low value rows\n",
    "\n",
    "high_value_count = (df['high_value'] == 1).sum()\n",
    "low_value_count = (df['high_value'] == 0).sum()\n"
   ]
  },
  {
   "cell_type": "code",
   "execution_count": 85,
   "metadata": {},
   "outputs": [
    {
     "data": {
      "text/html": [
       "<div>\n",
       "<style scoped>\n",
       "    .dataframe tbody tr th:only-of-type {\n",
       "        vertical-align: middle;\n",
       "    }\n",
       "\n",
       "    .dataframe tbody tr th {\n",
       "        vertical-align: top;\n",
       "    }\n",
       "\n",
       "    .dataframe thead th {\n",
       "        text-align: right;\n",
       "    }\n",
       "</style>\n",
       "<table border=\"1\" class=\"dataframe\">\n",
       "  <thead>\n",
       "    <tr style=\"text-align: right;\">\n",
       "      <th></th>\n",
       "      <th>term</th>\n",
       "      <th>chi2</th>\n",
       "      <th>pval</th>\n",
       "    </tr>\n",
       "  </thead>\n",
       "  <tbody>\n",
       "    <tr>\n",
       "      <th>2</th>\n",
       "      <td>magazine</td>\n",
       "      <td>8.717117</td>\n",
       "      <td>0.003152</td>\n",
       "    </tr>\n",
       "    <tr>\n",
       "      <th>3</th>\n",
       "      <td>sowith</td>\n",
       "      <td>7.595389</td>\n",
       "      <td>0.005852</td>\n",
       "    </tr>\n",
       "    <tr>\n",
       "      <th>5</th>\n",
       "      <td>erdarelli</td>\n",
       "      <td>2.531796</td>\n",
       "      <td>0.111573</td>\n",
       "    </tr>\n",
       "    <tr>\n",
       "      <th>6</th>\n",
       "      <td>tiptoeing</td>\n",
       "      <td>2.531796</td>\n",
       "      <td>0.111573</td>\n",
       "    </tr>\n",
       "    <tr>\n",
       "      <th>9</th>\n",
       "      <td>brusteins</td>\n",
       "      <td>2.531796</td>\n",
       "      <td>0.111573</td>\n",
       "    </tr>\n",
       "    <tr>\n",
       "      <th>0</th>\n",
       "      <td>violation</td>\n",
       "      <td>2.307368</td>\n",
       "      <td>0.128762</td>\n",
       "    </tr>\n",
       "    <tr>\n",
       "      <th>1</th>\n",
       "      <td>salamanders</td>\n",
       "      <td>1.974882</td>\n",
       "      <td>0.159931</td>\n",
       "    </tr>\n",
       "    <tr>\n",
       "      <th>7</th>\n",
       "      <td>nyerere</td>\n",
       "      <td>0.463386</td>\n",
       "      <td>0.496046</td>\n",
       "    </tr>\n",
       "    <tr>\n",
       "      <th>8</th>\n",
       "      <td>grebes</td>\n",
       "      <td>0.394976</td>\n",
       "      <td>0.529695</td>\n",
       "    </tr>\n",
       "    <tr>\n",
       "      <th>4</th>\n",
       "      <td>coincides</td>\n",
       "      <td>0.332572</td>\n",
       "      <td>0.564148</td>\n",
       "    </tr>\n",
       "  </tbody>\n",
       "</table>\n",
       "</div>"
      ],
      "text/plain": [
       "          term      chi2      pval\n",
       "2     magazine  8.717117  0.003152\n",
       "3       sowith  7.595389  0.005852\n",
       "5    erdarelli  2.531796  0.111573\n",
       "6    tiptoeing  2.531796  0.111573\n",
       "9    brusteins  2.531796  0.111573\n",
       "0    violation  2.307368  0.128762\n",
       "1  salamanders  1.974882  0.159931\n",
       "7      nyerere  0.463386  0.496046\n",
       "8       grebes  0.394976  0.529695\n",
       "4    coincides  0.332572  0.564148"
      ]
     },
     "execution_count": 85,
     "metadata": {},
     "output_type": "execute_result"
    }
   ],
   "source": [
    "chi_squared = []\n",
    "\n",
    "for term, obs in zip(comparison_terms, observed_expected):\n",
    "    total = sum(obs)\n",
    "    if total == 0:   # avoid division by zero\n",
    "        continue\n",
    "    \n",
    "    total_prop = total / len(df)   \n",
    "    expected_high = total_prop * high_value_count\n",
    "    expected_low = total_prop * low_value_count\n",
    "\n",
    "    observed = np.array([obs[0], obs[1]])\n",
    "    expected = np.array([expected_high, expected_low])\n",
    "\n",
    "    chi2, pval = chisquare(observed, expected)\n",
    "    chi_squared.append((term, chi2, pval))\n",
    "\n",
    "# Put into DataFrame for easier analysis\n",
    "chi_df = pd.DataFrame(chi_squared, columns=[\"term\", \"chi2\", \"pval\"])\n",
    "\n",
    "# Sort by significance\n",
    "chi_df = chi_df.sort_values(\"pval\")\n",
    "chi_df.head(10)\n"
   ]
  },
  {
   "cell_type": "markdown",
   "metadata": {},
   "source": [
    "### Observations\n",
    "\n",
    "- Most p-values are above the typical significance threshold (0.05).  \n",
    "- **Exceptions:**\n",
    "  - *magazine* (p = 0.0032)  \n",
    "  - *sowith* (p = 0.0059)  \n",
    "\n",
    "These two terms are significantly associated with differences in frequency between high-value and low-value questions.  \n",
    "\n",
    "---\n",
    "\n",
    "### Implications\n",
    "\n",
    "- For the majority of sampled terms, there is **no strong evidence** that they are predictive of high-value questions.  \n",
    "- A couple of terms (*magazine*, *sowith*) do show significance, but this may be due to chance given the small sample.  \n",
    "- To draw stronger conclusions, we should:  \n",
    "  - Expand the analysis to a **larger set of words**.  \n",
    "  - Focus on **frequently occurring terms** rather than rare ones.  \n"
   ]
  },
  {
   "cell_type": "markdown",
   "metadata": {},
   "source": [
    "##  Category Patterns \n",
    "\n",
    "The `Category` column represents the subject of each Jeopardy question.  \n",
    "\n",
    "Key analyses performed:\n",
    "\n",
    "1. **Top Categories:** Identified the top 20 most frequent categories overall.  \n",
    "2. **Count per Round:** Calculated how often each category appears in each round.  \n",
    "3. **Category Frequency & Probability by Round:** Computed the probability of each category appearing in each round, highlighting which topics dominate certain rounds.\n",
    "\n",
    "These analyses help uncover patterns in question topics and round-specific trends.\n"
   ]
  },
  {
   "cell_type": "code",
   "execution_count": 88,
   "metadata": {},
   "outputs": [],
   "source": [
    "category_counts = df['Category'].value_counts()"
   ]
  },
  {
   "cell_type": "code",
   "execution_count": 90,
   "metadata": {},
   "outputs": [
    {
     "data": {
      "image/png": "[encoded data removed]",
      "text/plain": [
       "<Figure size 1000x600 with 1 Axes>"
      ]
     },
     "metadata": {},
     "output_type": "display_data"
    }
   ],
   "source": [
    "category_counts.head(20).plot(kind='barh', figsize=(10,6))\n",
    "plt.title(\"Top 20 Most Frequent Jeopardy Categories\")\n",
    "plt.xlabel(\"Frequency\")\n",
    "plt.ylabel(\"Category\")\n",
    "plt.gca().invert_yaxis() \n",
    "plt.show()\n",
    "plt.show()"
   ]
  },
  {
   "cell_type": "code",
   "execution_count": 99,
   "metadata": {},
   "outputs": [
    {
     "name": "stdout",
     "output_type": "stream",
     "text": [
      "               Round              Category  count  probability\n",
      "0   Double Jeopardy!               \"-ARES\"      5     0.000047\n",
      "1   Double Jeopardy!         \"...OD\" WORDS      5     0.000047\n",
      "2   Double Jeopardy!         \"1\", \"2\", \"3\"      5     0.000047\n",
      "3   Double Jeopardy!        \"20\" QUESTIONS      5     0.000047\n",
      "4   Double Jeopardy!               \"A\" + 4      5     0.000047\n",
      "5   Double Jeopardy!        \"A\" IN COLLEGE      5     0.000047\n",
      "6   Double Jeopardy!      \"A\" IN GEOGRAPHY     15     0.000142\n",
      "7   Double Jeopardy!     \"A\" IN LITERATURE      5     0.000047\n",
      "8   Double Jeopardy!           \"A\" IN MATH      5     0.000047\n",
      "9   Double Jeopardy!        \"A\" IN SCIENCE     15     0.000142\n",
      "10  Double Jeopardy!  \"A\" IN SEX EDUCATION      5     0.000047\n",
      "11  Double Jeopardy!    \"A\" IN SHAKESPEARE      5     0.000047\n",
      "12  Double Jeopardy!                \"A\" OK      5     0.000047\n",
      "13  Double Jeopardy!              \"A\" PLUS     24     0.000227\n",
      "14  Double Jeopardy!  \"A\" SCIENCE CATEGORY      4     0.000038\n",
      "15  Double Jeopardy!           \"A\" TOUGHIE      5     0.000047\n",
      "16  Double Jeopardy!       \"A\"BBREVIATIONS      5     0.000047\n",
      "17  Double Jeopardy!      \"A\"NCIENT GREEKS      5     0.000047\n",
      "18  Double Jeopardy!                \"A.C.\"      5     0.000047\n",
      "19  Double Jeopardy!         \"A.C.\"/\"D.C.\"      5     0.000047\n"
     ]
    }
   ],
   "source": [
    "# Count categories per round\n",
    "category_round = df.groupby([\"Round\", \"Category\"]).size().reset_index(name=\"count\")\n",
    "\n",
    "# Total counts per round\n",
    "round_totals = category_round.groupby(\"Round\")[\"count\"].sum().reset_index(name=\"total_count\")\n",
    "\n",
    "# Merge totals back\n",
    "category_round = category_round.merge(round_totals, on=\"Round\")\n",
    "\n",
    "# Compute probability\n",
    "category_round[\"probability\"] = category_round[\"count\"] / category_round[\"total_count\"]\n",
    "\n",
    "# Keep only relevant columns\n",
    "category_round = category_round[[\"Round\", \"Category\", \"count\", \"probability\"]]\n",
    "\n",
    "print(category_round.head(20))"
   ]
  },
  {
   "cell_type": "markdown",
   "metadata": {},
   "source": [
    "### Category Frequency and Probability by Round\n",
    "\n",
    "- We computed the frequency of each category within each round and normalized by the total number of questions in that round.  \n",
    "- The probabilities are quite small for individual categories (often < 0.01), showing that Jeopardy! covers a **very wide range of categories**.  \n",
    "- Some categories (e.g., `\"A\" PLUS`, `\"A\" IN SCIENCE`, `\"A\" IN GEOGRAPHY`) appear more often than others, suggesting **recurring themes**.  \n",
    "- Overall, the distribution highlights the **diversity of categories** across rounds, with no single category dominating.\n"
   ]
  },
  {
   "cell_type": "markdown",
   "metadata": {},
   "source": [
    "## Category Patterns Across Rounds\n",
    "\n",
    "Analyzing the top 10 categories in each round highlights distinct patterns in topic focus and diversity. Some rounds tend to feature recurring themes, while others show a wider variety of categories. This section examines these trends to understand how Jeopardy content varies across rounds.\n"
   ]
  },
  {
   "cell_type": "code",
   "execution_count": 115,
   "metadata": {},
   "outputs": [],
   "source": [
    "# Pivot the category-round probabilities\n",
    "category_pivot = category_round.pivot(index=\"Category\", columns=\"Round\", values=\"probability\")\n",
    "\n",
    "# Optional: fill missing values with 0 (if a category doesn't appear in a round)\n",
    "category_pivot = category_pivot.fillna(0)\n"
   ]
  },
  {
   "cell_type": "code",
   "execution_count": 117,
   "metadata": {
    "scrolled": true
   },
   "outputs": [
    {
     "name": "stdout",
     "output_type": "stream",
     "text": [
      "\n",
      "Top 10 categories in Double Jeopardy!:\n",
      "\n",
      "Category\n",
      "BEFORE & AFTER             0.004249\n",
      "LITERATURE                 0.003597\n",
      "SCIENCE                    0.002795\n",
      "WORLD GEOGRAPHY            0.002398\n",
      "OPERA                      0.002360\n",
      "WORLD HISTORY              0.002238\n",
      "BALLET                     0.002172\n",
      "COLLEGES & UNIVERSITIES    0.002077\n",
      "ISLANDS                    0.002030\n",
      "ART                        0.002030\n",
      "Name: Double Jeopardy!, dtype: float64\n",
      "\n",
      "Top 10 categories in Final Jeopardy!:\n",
      "\n",
      "Category\n",
      "U.S. PRESIDENTS        0.013770\n",
      "WORD ORIGINS           0.009364\n",
      "STATE CAPITALS         0.008538\n",
      "AUTHORS                0.007436\n",
      "WORLD LEADERS          0.007161\n",
      "FAMOUS NAMES           0.006610\n",
      "FAMOUS AMERICANS       0.006610\n",
      "HISTORIC NAMES         0.006610\n",
      "BUSINESS & INDUSTRY    0.006334\n",
      "U.S. CITIES            0.005233\n",
      "Name: Final Jeopardy!, dtype: float64\n",
      "\n",
      "Top 10 categories in Jeopardy!:\n",
      "\n",
      "Category\n",
      "POTPOURRI              0.002375\n",
      "STUPID ANSWERS         0.002375\n",
      "SPORTS                 0.002356\n",
      "ANIMALS                0.002170\n",
      "AMERICAN HISTORY       0.002114\n",
      "SCIENCE                0.002021\n",
      "STATE CAPITALS         0.001956\n",
      "TELEVISION             0.001862\n",
      "U.S. CITIES            0.001816\n",
      "BUSINESS & INDUSTRY    0.001723\n",
      "Name: Jeopardy!, dtype: float64\n",
      "\n",
      "Top 10 categories in Tiebreaker:\n",
      "\n",
      "Category\n",
      "CHILD'S PLAY                         0.333333\n",
      "THE AMERICAN REVOLUTION              0.333333\n",
      "LITERARY CHARACTERS                  0.333333\n",
      " A JIM CARREY FILM FESTIVAL          0.000000\n",
      "PRESIDENTIAL MOMS                    0.000000\n",
      "PRESIDENTIAL MIDDLE NAME SPELLING    0.000000\n",
      "PRESIDENTIAL MIDDLE INITIALS         0.000000\n",
      "PRESIDENTIAL MENAGERIE               0.000000\n",
      "PRESIDENTIAL MEDICAL RECORDS         0.000000\n",
      "PRESIDENTIAL MATH                    0.000000\n",
      "Name: Tiebreaker, dtype: float64\n"
     ]
    }
   ],
   "source": [
    "# We'll use the pivot table with probabilities: category_pivot_only\n",
    "\n",
    "top_categories_per_round = {}\n",
    "\n",
    "for round_name in category_pivot.columns:\n",
    "    # Sort categories by probability for this round, descending\n",
    "    top_10 = category_pivot[round_name].sort_values(ascending=False).head(10)\n",
    "    top_categories_per_round[round_name] = top_10\n",
    "\n",
    "# Print top 10 categories per round\n",
    "for round_name, top_10 in top_categories_per_round.items():\n",
    "    print(f\"\\nTop 10 categories in {round_name}:\\n\")\n",
    "    print(top_10)\n"
   ]
  },
  {
   "cell_type": "markdown",
   "metadata": {},
   "source": [
    "### Conclusion: Category Patterns Across Rounds\n",
    "\n",
    "The analysis of the top 10 categories per round reveals clear differences in focus and diversity:\n",
    "\n",
    "- **Double Jeopardy!**  \n",
    "  The most common categories include *Before & After*, *Literature*, *Science*, and *World Geography*.  \n",
    "  This round tends to emphasize a mix of wordplay (*Before & After*), academic fields (*Literature*, *Science*), and cultural knowledge (*Opera*, *Ballet*, *Art*).  \n",
    "\n",
    "- **Final Jeopardy!**  \n",
    "  The round is dominated by historically and politically oriented categories, especially *U.S. Presidents*, *Word Origins*, and *State Capitals*.  \n",
    "  This suggests that the final round often tests deeper knowledge of U.S. history, politics, and language.  \n",
    "\n",
    "- **Jeopardy! (regular round)**  \n",
    "  The most frequent categories are broader and often lighter, such as *Potpourri*, *Stupid Answers*, *Sports*, and *Television*.  \n",
    "  Academic categories like *Science* and *American History* also appear, but at lower probabilities compared to Double Jeopardy!.  \n",
    "\n",
    "- **Tiebreaker**  \n",
    "  With very few data points, categories like *Child’s Play*, *The American Revolution*, and *Literary Characters* appear.  \n",
    "  However, the small sample size makes this round less reliable for broad insights.  \n",
    "\n",
    "### Key Takeaways\n",
    "- **Early rounds (Jeopardy!)** are more diverse and playful, covering a wide range of general knowledge.  \n",
    "- **Double Jeopardy!** focuses more heavily on academic and cultural subjects, raising the difficulty level.  \n",
    "- **Final Jeopardy!** leans toward high-stakes, serious categories, especially U.S. history and politics.  \n",
    "- **Category diversity** appears highest in Jeopardy! (broad range) and lowest in Final Jeopardy! (predictable, concentrated on history/politics).  \n"
   ]
  }
 ],
 "metadata": {
  "kernelspec": {
   "display_name": "Python [conda env:base] *",
   "language": "python",
   "name": "conda-base-py"
  },
  "language_info": {
   "codemirror_mode": {
    "name": "ipython",
    "version": 3
   },
   "file_extension": ".py",
   "mimetype": "text/x-python",
   "name": "python",
   "nbconvert_exporter": "python",
   "pygments_lexer": "ipython3",
   "version": "3.12.3"
  }
 },
 "nbformat": 4,
 "nbformat_minor": 4
}
